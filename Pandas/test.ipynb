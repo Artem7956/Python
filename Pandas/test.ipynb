{
 "cells": [
  {
   "cell_type": "markdown",
   "metadata": {},
   "source": [
    "**Задача 1**\n",
    "\n",
    "С использованием Pandas написать функцию, которая загружает указанные года и выводит ТОП-3 популярных имен.\n"
   ]
  },
  {
   "cell_type": "code",
   "execution_count": 7,
   "metadata": {},
   "outputs": [
    {
     "name": "stdout",
     "output_type": "stream",
     "text": [
      "True\n",
      "True\n"
     ]
    }
   ],
   "source": [
    "import pandas as pd\n",
    "import numpy\n",
    "import os\n",
    "\n",
    "\n",
    "DATA_PATH = ''\n",
    "#DATA_PATH = 'C:\\\\Users\\\\artam\\\\Documents\\\\Python1\\\\Pandas\\\\names'\n",
    "\n",
    "data_dir = 'names'\n",
    "\n",
    "if DATA_PATH:\n",
    "    path_to_data = DATA_PATH\n",
    "else:\n",
    "    path_to_data = data_dir\n",
    "    \n",
    "\n",
    "\n",
    "\n",
    "def get_data_from_year(year):\n",
    "    df = pd.read_csv(os.path.join(path_to_data,'yob' + str(year) + '.txt'),names=['name','gender','count'])\n",
    "    return df\n",
    "\n",
    "\n",
    "def count_top3(years):\n",
    "    res = pd.DataFrame()\n",
    "    for year in years:\n",
    "        res = pd.concat([res,get_data_from_year(year)])\n",
    "        \n",
    "    result_data = res.groupby('name').aggregate(sum)\n",
    "    sorted_result = result_data.sort_values(by='count',ascending = False)\n",
    "    top3_result = sorted_result[0:3]\n",
    "    return list(top3_result.index)\n",
    "\n",
    "\n",
    "print(count_top3([1880]) == ['John', 'William', 'Mary'])\n",
    "print(count_top3([1900, 1950, 2000]) == ['James', 'John', 'Robert'])\n",
    "\n"
   ]
  },
  {
   "cell_type": "markdown",
   "metadata": {},
   "source": [
    "**Задача 2**\n",
    "\n",
    "С использованием Pandas написать функцию, которая возвращает динамику изменения количества имен за указанные года в разрезе полов."
   ]
  },
  {
   "cell_type": "code",
   "execution_count": 8,
   "metadata": {},
   "outputs": [
    {
     "data": {
      "text/plain": [
       "{'F': [299800, 1713151, 1815110], 'M': [150483, 1790549, 1962969]}"
      ]
     },
     "execution_count": 8,
     "metadata": {},
     "output_type": "execute_result"
    }
   ],
   "source": [
    "def get_gender_from_year(year):\n",
    "    res = pd.DataFrame()\n",
    "    res = get_data_from_year(year)\n",
    "    agregate_data = res.groupby('gender').aggregate(sum)\n",
    "    return agregate_data\n",
    "\n",
    "\n",
    "def count_dynamics(years):\n",
    "    res = get_gender_from_year(years[0])\n",
    "    \n",
    "    for i in range(1,len(years)):\n",
    "        tmp_res = get_gender_from_year(years[i])\n",
    "        res = tmp_res.merge(res,how = 'outer',on = 'gender')\n",
    "    fam_list = list(res.loc['F'])\n",
    "    male_list = list(res.loc['M'])\n",
    "    fam_list.reverse()\n",
    "    male_list.reverse()\n",
    "    return dict(F = fam_list,M = male_list)  \n",
    "\n",
    "\n",
    "d = count_dynamics([1900, 1950, 2000])\n",
    "d\n"
   ]
  },
  {
   "cell_type": "code",
   "execution_count": null,
   "metadata": {},
   "outputs": [],
   "source": []
  }
 ],
 "metadata": {
  "kernelspec": {
   "display_name": "Python 3",
   "language": "python",
   "name": "python3"
  },
  "language_info": {
   "codemirror_mode": {
    "name": "ipython",
    "version": 3
   },
   "file_extension": ".py",
   "mimetype": "text/x-python",
   "name": "python",
   "nbconvert_exporter": "python",
   "pygments_lexer": "ipython3",
   "version": "3.6.5"
  }
 },
 "nbformat": 4,
 "nbformat_minor": 2
}
