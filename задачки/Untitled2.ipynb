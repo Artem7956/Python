{
 "cells": [
  {
   "cell_type": "code",
   "execution_count": 149,
   "metadata": {},
   "outputs": [],
   "source": [
    "import numpy as np\n",
    "def is_rectangle(cells):\n",
    "    cells.sort()\n",
    "    i=0\n",
    "    side=1\n",
    "    \n",
    "    if len(cells)==0:\n",
    "        return False\n",
    "    elif len(cells)==1:\n",
    "        return True\n",
    "        \n",
    "    while i< len(cells)-1:\n",
    "        if cells[i+1]-cells[i]==1 and cells[i]%M>0:\n",
    "            side=side+1\n",
    "        else:\n",
    "            break\n",
    "        i=i+1    \n",
    "    if  len(cells)%side > 0:\n",
    "        return False\n",
    "       \n",
    "    #s=sum(cells[0*side:(0)*side+side])\n",
    "    #print('side',side,s,sum(cells[1*side:(1)*side+side]),1*side*M)\n",
    "           \n",
    "    for k in range(0,len(cells)//side-1):\n",
    "        \n",
    "        difs=np.array(cells[(k+1)*side:(k+1)*side+side])-np.array(cells[(k)*side:(k)*side+side])\n",
    "        print(k,'side={0}'.format(side),difs,(difs!=np.ones(2)*M).all())\n",
    "        if not (difs==np.ones(2)*M).all():\n",
    "            return False\n",
    "        #print(np.ones(2)==np.ones(2)*2)    \n",
    "          \n",
    "        #if sum(cells[k*side:(k)*side+side])-side*M != s:\n",
    "           \n",
    "           #return False\n",
    "           \n",
    "    return True   \n"
   ]
  },
  {
   "cell_type": "code",
   "execution_count": 152,
   "metadata": {},
   "outputs": [
    {
     "name": "stdout",
     "output_type": "stream",
     "text": [
      "0 side=2 [2 3] False\n"
     ]
    },
    {
     "data": {
      "text/plain": [
       "False"
      ]
     },
     "execution_count": 152,
     "metadata": {},
     "output_type": "execute_result"
    }
   ],
   "source": [
    "M=3\n",
    "a=[2, 3, 4,6, 7,8]\n",
    "\n",
    "is_rectangle(a)\n",
    "#a=np.ones(2)\n",
    "#b=np.ones(2)\n",
    "#a==b\n",
    "    "
   ]
  },
  {
   "cell_type": "code",
   "execution_count": null,
   "metadata": {},
   "outputs": [],
   "source": [
    "\n"
   ]
  },
  {
   "cell_type": "code",
   "execution_count": 16,
   "metadata": {},
   "outputs": [
    {
     "data": {
      "text/plain": [
       "3.0"
      ]
     },
     "execution_count": 16,
     "metadata": {},
     "output_type": "execute_result"
    }
   ],
   "source": []
  },
  {
   "cell_type": "code",
   "execution_count": null,
   "metadata": {},
   "outputs": [],
   "source": []
  }
 ],
 "metadata": {
  "kernelspec": {
   "display_name": "Python 3",
   "language": "python",
   "name": "python3"
  },
  "language_info": {
   "codemirror_mode": {
    "name": "ipython",
    "version": 3
   },
   "file_extension": ".py",
   "mimetype": "text/x-python",
   "name": "python",
   "nbconvert_exporter": "python",
   "pygments_lexer": "ipython3",
   "version": "3.6.5"
  }
 },
 "nbformat": 4,
 "nbformat_minor": 2
}
